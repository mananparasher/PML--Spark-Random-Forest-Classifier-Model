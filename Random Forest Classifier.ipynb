{
 "cells": [
  {
   "cell_type": "markdown",
   "metadata": {},
   "source": [
    "## Import the Libraries"
   ]
  },
  {
   "cell_type": "code",
   "execution_count": 10,
   "metadata": {},
   "outputs": [],
   "source": [
    "import pyspark\n",
    "from pyspark.ml.classification import RandomForestClassifier\n",
    "from pyspark.ml.feature import StringIndexer, VectorAssembler\n",
    "from pyspark.sql import SparkSession\n",
    "from pyspark.ml import Pipeline\n",
    "from pyspark.ml.feature import StandardScaler\n",
    "from pyspark.ml.evaluation import BinaryClassificationEvaluator\n",
    "spark = SparkSession.builder.appName(\"Random Forest Classifier\").getOrCreate()"
   ]
  },
  {
   "cell_type": "markdown",
   "metadata": {},
   "source": [
    "##  Download the Dataset "
   ]
  },
  {
   "cell_type": "code",
   "execution_count": 2,
   "metadata": {},
   "outputs": [
    {
     "name": "stdout",
     "output_type": "stream",
     "text": [
      "Warning: Failed to set locale category LC_NUMERIC to en_IN.\n",
      "Warning: Failed to set locale category LC_TIME to en_IN.\n",
      "Warning: Failed to set locale category LC_COLLATE to en_IN.\n",
      "Warning: Failed to set locale category LC_MONETARY to en_IN.\n",
      "Warning: Failed to set locale category LC_MESSAGES to en_IN.\n",
      "--2020-06-20 23:46:00--  https://raw.githubusercontent.com/mananparasher/Spark-Datasets/master/bank_data.csv\n",
      "Resolving raw.githubusercontent.com (raw.githubusercontent.com)... 151.101.124.133\n",
      "Connecting to raw.githubusercontent.com (raw.githubusercontent.com)|151.101.124.133|:443... connected.\n",
      "HTTP request sent, awaiting response... 200 OK\n",
      "Length: 918960 (897K) [text/plain]\n",
      "Saving to: ‘bank_data.csv.1’\n",
      "\n",
      "bank_data.csv.1     100%[===================>] 897.42K  1.57MB/s    in 0.6s    \n",
      "\n",
      "2020-06-20 23:46:00 (1.57 MB/s) - ‘bank_data.csv.1’ saved [918960/918960]\n",
      "\n"
     ]
    }
   ],
   "source": [
    "!wget https://raw.githubusercontent.com/mananparasher/Spark-Datasets/master/bank_data.csv"
   ]
  },
  {
   "cell_type": "markdown",
   "metadata": {},
   "source": [
    "## Load the Data in Spark DataFrame "
   ]
  },
  {
   "cell_type": "code",
   "execution_count": 2,
   "metadata": {},
   "outputs": [
    {
     "name": "stdout",
     "output_type": "stream",
     "text": [
      "root\n",
      " |-- age: integer (nullable = true)\n",
      " |-- job: string (nullable = true)\n",
      " |-- marital: string (nullable = true)\n",
      " |-- education: string (nullable = true)\n",
      " |-- default: string (nullable = true)\n",
      " |-- balance: integer (nullable = true)\n",
      " |-- housing: string (nullable = true)\n",
      " |-- loan: string (nullable = true)\n",
      " |-- contact: string (nullable = true)\n",
      " |-- day: integer (nullable = true)\n",
      " |-- month: string (nullable = true)\n",
      " |-- duration: integer (nullable = true)\n",
      " |-- campaign: integer (nullable = true)\n",
      " |-- pdays: integer (nullable = true)\n",
      " |-- previous: integer (nullable = true)\n",
      " |-- poutcome: string (nullable = true)\n",
      " |-- deposit: string (nullable = true)\n",
      "\n"
     ]
    }
   ],
   "source": [
    "df = spark.read.csv('bank_data.csv', header = True, inferSchema = True)\n",
    "df.printSchema()"
   ]
  },
  {
   "cell_type": "markdown",
   "metadata": {},
   "source": [
    "## Data Processing for Machine Learning Model"
   ]
  },
  {
   "cell_type": "code",
   "execution_count": 3,
   "metadata": {},
   "outputs": [],
   "source": [
    "pipeline_stages=[]\n",
    "categorical_columns = ['job', 'marital', 'education', 'default', 'housing', 'loan', 'contact', 'poutcome']\n",
    "for value in categorical_columns:\n",
    "    string_indexer = StringIndexer(inputCol=value, outputCol=value+\"indexer\")\n",
    "    pipeline_stages += [string_indexer]\n",
    "    \n",
    "target_column = StringIndexer(inputCol = 'deposit', outputCol = 'label')\n",
    "pipeline_stages += [target_column]\n",
    "\n",
    "numerical_columns = ['age', 'balance', 'duration', 'campaign', 'pdays', 'previous']\n",
    "combined_columns = [columns + \"indexer\" for columns in categorical_columns] + numerical_columns\n",
    "\n",
    "vector_assembler = VectorAssembler(inputCols=combined_columns, outputCol=\"features\")\n",
    "pipeline_stages += [vector_assembler]"
   ]
  },
  {
   "cell_type": "code",
   "execution_count": 4,
   "metadata": {},
   "outputs": [
    {
     "data": {
      "text/plain": [
       "[StringIndexer_40b783fdc67fb4587b57,\n",
       " StringIndexer_4416abada6523c3928cd,\n",
       " StringIndexer_49cdb66df7e05cfa84e7,\n",
       " StringIndexer_4818843caffdf33b2baa,\n",
       " StringIndexer_492aa289fa7af69a64c4,\n",
       " StringIndexer_487889bd26e9b53dba37,\n",
       " StringIndexer_45dcb5a96c4781c0b1c0,\n",
       " StringIndexer_4139a051c0795b53a043,\n",
       " StringIndexer_46dc829c23c25af00008,\n",
       " VectorAssembler_4e739be657ae794f9bb4]"
      ]
     },
     "execution_count": 4,
     "metadata": {},
     "output_type": "execute_result"
    }
   ],
   "source": [
    "pipeline_stages"
   ]
  },
  {
   "cell_type": "code",
   "execution_count": 5,
   "metadata": {},
   "outputs": [
    {
     "name": "stdout",
     "output_type": "stream",
     "text": [
      "root\n",
      " |-- features: vector (nullable = true)\n",
      " |-- label: double (nullable = false)\n",
      "\n"
     ]
    }
   ],
   "source": [
    "pipeline = Pipeline(stages = pipeline_stages)\n",
    "pipeline_fit = pipeline.fit(df).transform(df)\n",
    "df = pipeline_fit.select([\"features\",\"label\"])\n",
    "df.printSchema()"
   ]
  },
  {
   "cell_type": "markdown",
   "metadata": {},
   "source": [
    "##  Data Splitting "
   ]
  },
  {
   "cell_type": "code",
   "execution_count": 6,
   "metadata": {},
   "outputs": [
    {
     "name": "stdout",
     "output_type": "stream",
     "text": [
      "Training Dataset Count: 10001\n",
      "Test Dataset Count: 1161\n"
     ]
    }
   ],
   "source": [
    "training_data, testing_data = df.randomSplit([0.9, 0.1])\n",
    "print(\"Training Dataset Count: \" + str(training_data.count()))\n",
    "print(\"Test Dataset Count: \" + str(testing_data.count()))"
   ]
  },
  {
   "cell_type": "markdown",
   "metadata": {},
   "source": [
    "## Model Implementation and Fitting "
   ]
  },
  {
   "cell_type": "code",
   "execution_count": 7,
   "metadata": {},
   "outputs": [
    {
     "data": {
      "text/plain": [
       "RandomForestClassificationModel (uid=RandomForestClassifier_46ad9aa3420c74aa116b) with 20 trees"
      ]
     },
     "execution_count": 7,
     "metadata": {},
     "output_type": "execute_result"
    }
   ],
   "source": [
    "randomforestclassifier = RandomForestClassifier(featuresCol = 'features', labelCol = 'label', maxDepth = 10)\n",
    "model = randomforestclassifier.fit(training_data)\n",
    "model"
   ]
  },
  {
   "cell_type": "markdown",
   "metadata": {},
   "source": [
    "## Model Prediction  "
   ]
  },
  {
   "cell_type": "code",
   "execution_count": 8,
   "metadata": {},
   "outputs": [
    {
     "name": "stdout",
     "output_type": "stream",
     "text": [
      "+--------------------+----------+-----+\n",
      "|            features|prediction|label|\n",
      "+--------------------+----------+-----+\n",
      "|(14,[0,1,2,4,8,10...|       0.0|  0.0|\n",
      "|(14,[0,1,2,4,8,10...|       0.0|  1.0|\n",
      "|(14,[0,1,2,5,8,10...|       1.0|  0.0|\n",
      "|(14,[0,1,2,6,8,10...|       0.0|  0.0|\n",
      "|(14,[0,1,2,8,9,10...|       1.0|  1.0|\n",
      "|(14,[0,1,2,8,9,10...|       1.0|  0.0|\n",
      "|(14,[0,1,2,8,9,10...|       0.0|  1.0|\n",
      "|(14,[0,1,2,8,9,10...|       1.0|  1.0|\n",
      "|(14,[0,1,2,8,9,10...|       1.0|  1.0|\n",
      "|(14,[0,1,2,8,9,10...|       1.0|  1.0|\n",
      "+--------------------+----------+-----+\n",
      "only showing top 10 rows\n",
      "\n"
     ]
    }
   ],
   "source": [
    "predictions = model.transform(testing_data)\n",
    "predictions.select(\"features\",\"prediction\",\"label\").show(10)"
   ]
  },
  {
   "cell_type": "markdown",
   "metadata": {},
   "source": [
    "## Model Evaluation"
   ]
  },
  {
   "cell_type": "code",
   "execution_count": 12,
   "metadata": {},
   "outputs": [
    {
     "name": "stdout",
     "output_type": "stream",
     "text": [
      "Test Area Under ROC Curve: 0.9028210087784496\n"
     ]
    }
   ],
   "source": [
    "roc_curve_evaluator = BinaryClassificationEvaluator()\n",
    "print(\"Test Area Under ROC Curve: \" + str(roc_curve_evaluator.evaluate(predictions, {evaluator.metricName: \"areaUnderROC\"})))"
   ]
  }
 ],
 "metadata": {
  "kernelspec": {
   "display_name": "Python 3",
   "language": "python",
   "name": "python3"
  },
  "language_info": {
   "codemirror_mode": {
    "name": "ipython",
    "version": 3
   },
   "file_extension": ".py",
   "mimetype": "text/x-python",
   "name": "python",
   "nbconvert_exporter": "python",
   "pygments_lexer": "ipython3",
   "version": "3.7.4"
  }
 },
 "nbformat": 4,
 "nbformat_minor": 2
}
